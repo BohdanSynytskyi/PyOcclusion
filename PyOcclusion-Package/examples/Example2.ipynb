{
 "cells": [
  {
   "cell_type": "code",
   "execution_count": 1,
   "id": "9e812f15",
   "metadata": {},
   "outputs": [],
   "source": [
    "from PyOcclusion import VideoEditor"
   ]
  },
  {
   "cell_type": "markdown",
   "id": "6108214a",
   "metadata": {},
   "source": [
    "Instantiating *VideoEditor* class..."
   ]
  },
  {
   "cell_type": "code",
   "execution_count": 2,
   "id": "78e8f997",
   "metadata": {},
   "outputs": [
    {
     "name": "stdout",
     "output_type": "stream",
     "text": [
      "displayed number of shapes: 91\n"
     ]
    }
   ],
   "source": [
    "editor = VideoEditor(velocity_r=10, velocity_c=0, side_h=17, side_w=17, num=100, height=1080, width=1920)"
   ]
  },
  {
   "cell_type": "markdown",
   "id": "58a735e4",
   "metadata": {},
   "source": [
    "*editVideo* allows to transform video and create a new video file without affecting original file."
   ]
  },
  {
   "cell_type": "code",
   "execution_count": null,
   "id": "e9dab861",
   "metadata": {},
   "outputs": [],
   "source": [
    "editor.editVideo(filename=\"video.mp4\", noisyname=\"newVideo.mp4\", fps=30, codec='libx264', bitrate='4000k')"
   ]
  },
  {
   "cell_type": "markdown",
   "id": "06a67905",
   "metadata": {},
   "source": [
    "*editAll* function allows user to iterate through multiple files in the given directory and apply transfomation to all of them at once."
   ]
  },
  {
   "cell_type": "code",
   "execution_count": null,
   "id": "4e44428f",
   "metadata": {},
   "outputs": [],
   "source": [
    "editor.editAll(directory=\"video_files\", extension=\"mp4\")"
   ]
  }
 ],
 "metadata": {
  "kernelspec": {
   "display_name": "Python 3",
   "language": "python",
   "name": "python3"
  },
  "language_info": {
   "codemirror_mode": {
    "name": "ipython",
    "version": 3
   },
   "file_extension": ".py",
   "mimetype": "text/x-python",
   "name": "python",
   "nbconvert_exporter": "python",
   "pygments_lexer": "ipython3",
   "version": "3.8.8"
  }
 },
 "nbformat": 4,
 "nbformat_minor": 5
}
